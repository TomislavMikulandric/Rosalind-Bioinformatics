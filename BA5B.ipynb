{
 "cells": [
  {
   "cell_type": "code",
   "execution_count": 1,
   "id": "b69020cb-1907-4b11-bb8a-4b2b11b81234",
   "metadata": {},
   "outputs": [
    {
     "name": "stdout",
     "output_type": "stream",
     "text": [
      "79\n"
     ]
    }
   ],
   "source": [
    "def parse_manhattan_input(input_lines_list):\n",
    "    n, m = map(int, input_lines_list[0].split())\n",
    "\n",
    "    # Down matrix: n rows, m+1 columns\n",
    "    down_matrix = []\n",
    "    for i in range(1, n + 1):\n",
    "        down_matrix.append(list(map(int, input_lines_list[i].split())))\n",
    "\n",
    "    # Right matrix: n+1 rows, m columns\n",
    "    right_matrix = []\n",
    "    start_right_idx = n + 2 # Skip the separator \"-\"\n",
    "    for i in range(n + 1):\n",
    "        line_index = start_right_idx + i\n",
    "        right_matrix.append(list(map(int, input_lines_list[line_index].split())))\n",
    "    \n",
    "    return n, m, down_matrix, right_matrix\n",
    "\n",
    "def longest_path_manhattan(n, m, down_matrix, right_matrix):\n",
    "    # S_table[i][j] will store the length of the longest path to node (i,j). Filled wit zeroes as the base case\n",
    "    S_table = [[0 for _ in range(m + 1)] for _ in range(n + 1)]\n",
    "\n",
    "    # First row, only add values to the right\n",
    "    for j_col in range(1, m + 1):\n",
    "        S_table[0][j_col] = S_table[0][j_col-1] + right_matrix[0][j_col-1]\n",
    "\n",
    "    # First column, only add values down\n",
    "    for i_row in range(1, n + 1):\n",
    "        S_table[i_row][0] = S_table[i_row-1][0] + down_matrix[i_row-1][0]\n",
    "\n",
    "    for i_row in range(1, n + 1):\n",
    "        for j_col in range(1, m + 1):\n",
    "            score_from_up = S_table[i_row-1][j_col] + down_matrix[i_row-1][j_col] # If we came from up, take the i-1th row and add the down matrix value\n",
    "            \n",
    "            score_from_left = S_table[i_row][j_col-1] + right_matrix[i_row][j_col-1] # If we came from left, take the j-1th col and add the right matrix value\n",
    "            \n",
    "            S_table[i_row][j_col] = max(score_from_up, score_from_left)\n",
    "            \n",
    "    return S_table[n][m]\n",
    "\n",
    "if __name__ == \"__main__\":\n",
    "    file_path = \"../data/rosalind_ba5b.txt\" \n",
    "    \n",
    "    input_data_lines = []\n",
    "    with open(file_path, 'r') as f:\n",
    "        input_data_lines = [line.strip() for line in f.readlines()]\n",
    "\n",
    "    n_val, m_val, down_m, right_m = parse_manhattan_input(input_data_lines)\n",
    "    final_length = longest_path_manhattan(n_val, m_val, down_m, right_m)\n",
    "    \n",
    "    print(final_length)"
   ]
  },
  {
   "cell_type": "code",
   "execution_count": null,
   "id": "a7e8f175-f6ce-4827-938f-80841ea96034",
   "metadata": {},
   "outputs": [],
   "source": []
  }
 ],
 "metadata": {
  "kernelspec": {
   "display_name": "Python 3 (ipykernel)",
   "language": "python",
   "name": "python3"
  },
  "language_info": {
   "codemirror_mode": {
    "name": "ipython",
    "version": 3
   },
   "file_extension": ".py",
   "mimetype": "text/x-python",
   "name": "python",
   "nbconvert_exporter": "python",
   "pygments_lexer": "ipython3",
   "version": "3.11.7"
  }
 },
 "nbformat": 4,
 "nbformat_minor": 5
}
