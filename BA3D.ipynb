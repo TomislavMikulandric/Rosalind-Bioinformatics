{
 "cells": [
  {
   "cell_type": "code",
   "execution_count": null,
   "id": "0c31e8b8-e5be-4c39-87fc-97132daea603",
   "metadata": {},
   "outputs": [],
   "source": [
    "def construct_de_bruijn_graph(k, text):\n",
    "    graph = defaultdict(list)\n",
    "    \n",
    "    for i in range(len(text) - k + 1):\n",
    "        kmer = text[i:i+k]\n",
    "        prefix = kmer[:-1]\n",
    "        suffix = kmer[1:]\n",
    "        graph[prefix].append(suffix)\n",
    "    \n",
    "    return graph\n",
    "\n",
    "def format_adjacency_list(graph):\n",
    "    adjacency_list = []\n",
    "    for node, edges in sorted(graph.items()):\n",
    "        edges.sort()\n",
    "        adjacency_list.append(f\"{node} -> {','.join(edges)}\")\n",
    "    return adjacency_list\n",
    "\n",
    "def main():\n",
    "    with open(\"rosalind_ba3d.txt\", \"r\") as f:\n",
    "        k = int(f.readline().strip())\n",
    "        text = f.readline().strip()\n",
    "    \n",
    "    graph = construct_de_bruijn_graph(k, text)\n",
    "    result = format_adjacency_list(graph)\n",
    "    \n",
    "    for edge in result:\n",
    "        print(edge)\n",
    "\n",
    "if __name__ == \"__main__\":\n",
    "    main()"
   ]
  }
 ],
 "metadata": {
  "kernelspec": {
   "display_name": "Python 3 (ipykernel)",
   "language": "python",
   "name": "python3"
  },
  "language_info": {
   "codemirror_mode": {
    "name": "ipython",
    "version": 3
   },
   "file_extension": ".py",
   "mimetype": "text/x-python",
   "name": "python",
   "nbconvert_exporter": "python",
   "pygments_lexer": "ipython3",
   "version": "3.11.7"
  }
 },
 "nbformat": 4,
 "nbformat_minor": 5
}
