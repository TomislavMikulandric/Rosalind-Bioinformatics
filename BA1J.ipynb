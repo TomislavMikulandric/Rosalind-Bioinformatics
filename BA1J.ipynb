{
 "cells": [
  {
   "cell_type": "code",
   "execution_count": null,
   "id": "87c972e9-6578-4ea2-baa6-cc556b6cd71d",
   "metadata": {},
   "outputs": [],
   "source": [
    "from collections import defaultdict\n",
    "from Bio import Seq\n",
    "\n",
    "def HammingDistance(s1, s2):\n",
    "    dist = 0\n",
    "    for i in range(len(s1)):\n",
    "        if s1[i] != s2[i]:\n",
    "            dist += 1\n",
    "    return dist\n",
    "\n",
    "def ReversePattern(pattern):\n",
    "    return Seq.reverse_complement(pattern)\n",
    "\n",
    "def \n",
    "\n",
    "if __name__ == \"__main__\":\n",
    "    with open(\"../data/rosalind_ba1j.txt\") as f:\n",
    "        text = f.readline().strip()\n",
    "        k, d = map(int, readline().strip().split()\n",
    "    "
   ]
  }
 ],
 "metadata": {
  "kernelspec": {
   "display_name": "Python 3 (ipykernel)",
   "language": "python",
   "name": "python3"
  },
  "language_info": {
   "codemirror_mode": {
    "name": "ipython",
    "version": 3
   },
   "file_extension": ".py",
   "mimetype": "text/x-python",
   "name": "python",
   "nbconvert_exporter": "python",
   "pygments_lexer": "ipython3",
   "version": "3.11.7"
  }
 },
 "nbformat": 4,
 "nbformat_minor": 5
}
