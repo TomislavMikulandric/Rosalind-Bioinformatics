{
 "cells": [
  {
   "cell_type": "code",
   "execution_count": 4,
   "id": "1c9499b6-1849-4b16-b650-a7ed38621ffd",
   "metadata": {},
   "outputs": [
    {
     "name": "stdout",
     "output_type": "stream",
     "text": [
      "38\n"
     ]
    }
   ],
   "source": [
    "def hamming_distance(s1,s2):\n",
    "    return sum(c1 != c2 for c1,c2 in zip(s1,s2))\n",
    "\n",
    "def distance_between_pattern_and_string(pattern, dna):\n",
    "    k = len(pattern)\n",
    "    distance = 0\n",
    "    for text in dna:\n",
    "        hamming_dist = float('inf')\n",
    "        for i in range(len(text)-k+1):\n",
    "            current_pattern = text[i:i+k]\n",
    "            current_dist = hamming_distance(current_pattern, pattern)\n",
    "            hamming_dist = min(hamming_dist, current_dist)\n",
    "        distance += hamming_dist\n",
    "    return distance\n",
    "\n",
    "\n",
    "if __name__ == \"__main__\":\n",
    "    with open(\"../data/rosalind_ba2h.txt\") as f:\n",
    "        pattern = f.readline().strip()\n",
    "        dna = f.readline().strip().split()\n",
    "    result = distance_between_pattern_and_string(pattern, dna)\n",
    "    print(result)"
   ]
  },
  {
   "cell_type": "code",
   "execution_count": null,
   "id": "fc855e7f-a143-474f-ae3e-62f138b269e9",
   "metadata": {},
   "outputs": [],
   "source": []
  }
 ],
 "metadata": {
  "kernelspec": {
   "display_name": "Python 3 (ipykernel)",
   "language": "python",
   "name": "python3"
  },
  "language_info": {
   "codemirror_mode": {
    "name": "ipython",
    "version": 3
   },
   "file_extension": ".py",
   "mimetype": "text/x-python",
   "name": "python",
   "nbconvert_exporter": "python",
   "pygments_lexer": "ipython3",
   "version": "3.11.7"
  }
 },
 "nbformat": 4,
 "nbformat_minor": 5
}
