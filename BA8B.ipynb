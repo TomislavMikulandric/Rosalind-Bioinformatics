{
 "cells": [
  {
   "cell_type": "code",
   "execution_count": 1,
   "id": "b4ea2306-6de4-439c-b26c-be1b0bdac4bc",
   "metadata": {},
   "outputs": [
    {
     "name": "stdout",
     "output_type": "stream",
     "text": [
      "34.751\n"
     ]
    }
   ],
   "source": [
    "import math\n",
    "\n",
    "def euclidean_distance(point1, point2):\n",
    "    return math.sqrt(sum((a - b) ** 2 for a, b in zip(point1, point2)))\n",
    "\n",
    "def distance_to_centers(point, centers):\n",
    "    return min(euclidean_distance(point, center) for center in centers)\n",
    "\n",
    "def squared_error_distortion(data, centers):\n",
    "    total_squared_distance = sum(distance_to_centers(point, centers)**2 for point in data)\n",
    "    return total_squared_distance / len(data)\n",
    "\n",
    "def main():\n",
    "    with open(\"../data/rosalind_ba8b.txt\") as f:\n",
    "        k, m = map(int, f.readline().strip().split())\n",
    "        \n",
    "        centers = []\n",
    "        for _ in range(k):\n",
    "            center = tuple(map(float, f.readline().strip().split()))\n",
    "            centers.append(center)\n",
    "        \n",
    "        f.readline()\n",
    "        \n",
    "        data = []\n",
    "        for line in f:\n",
    "            point = tuple(map(float, line.strip().split()))\n",
    "            data.append(point)\n",
    "    distortion = squared_error_distortion(data, centers)\n",
    "    print(f\"{distortion:.3f}\")\n",
    "\n",
    "if __name__ == \"__main__\":\n",
    "    main()"
   ]
  },
  {
   "cell_type": "code",
   "execution_count": null,
   "id": "f1106bb3-318b-4e70-89c2-c9397e32ec82",
   "metadata": {},
   "outputs": [],
   "source": []
  }
 ],
 "metadata": {
  "kernelspec": {
   "display_name": "Python 3 (ipykernel)",
   "language": "python",
   "name": "python3"
  },
  "language_info": {
   "codemirror_mode": {
    "name": "ipython",
    "version": 3
   },
   "file_extension": ".py",
   "mimetype": "text/x-python",
   "name": "python",
   "nbconvert_exporter": "python",
   "pygments_lexer": "ipython3",
   "version": "3.11.7"
  }
 },
 "nbformat": 4,
 "nbformat_minor": 5
}
