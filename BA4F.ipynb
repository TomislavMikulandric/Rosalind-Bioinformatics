{
 "cells": [
  {
   "cell_type": "code",
   "execution_count": 1,
   "id": "989394e0-72db-4965-a8af-ef2c571033f6",
   "metadata": {},
   "outputs": [
    {
     "name": "stdout",
     "output_type": "stream",
     "text": [
      "775\n"
     ]
    }
   ],
   "source": [
    "import collections\n",
    "\n",
    "# Standard integer masses for amino acids\n",
    "AMINO_ACID_MASSES_DICT = {\n",
    "    'G': 57, 'A': 71, 'S': 87, 'P': 97, 'V': 99,\n",
    "    'T': 101, 'C': 103, 'I': 113, 'L': 113, 'N': 114,\n",
    "    'D': 115, 'K': 128, 'Q': 128, 'E': 129, 'M': 131,\n",
    "    'H': 137, 'F': 147, 'R': 156, 'Y': 163, 'W': 186\n",
    "}\n",
    "\n",
    "def get_cyclospectrum(peptide_masses): # Same as in BA4E\n",
    "    if not peptide_masses:\n",
    "        return collections.Counter({0: 1}) # Spectrum of empty peptide is {0:1}\n",
    "    \n",
    "    spectrum = collections.Counter()\n",
    "    spectrum[0] += 1\n",
    "\n",
    "    n = len(peptide_masses)\n",
    "    doubled_for_subs = peptide_masses + peptide_masses[:n-1] # I need to concat the n - 1 peptides in the end to mimic the circle\n",
    "\n",
    "    for length in range(1, n): # Subpeptide lengths from 1 to n-1\n",
    "        for i in range(n):     # Starting position in the original peptide\n",
    "            subpeptide_mass = sum(doubled_for_subs[i : i + length])\n",
    "            spectrum[subpeptide_mass] += 1\n",
    "    \n",
    "    # Add mass of the full peptide\n",
    "    spectrum[sum(peptide_masses)] += 1\n",
    "    return spectrum\n",
    "\n",
    "\n",
    "def amino_acid_string_to_mass_list(peptide_string): # Get all theoretical mass values for the given peptide \n",
    "    mass_list = []\n",
    "    for aa in peptide_string:\n",
    "        mass = AMINO_ACID_MASSES_DICT.get(aa)\n",
    "        if mass is None:\n",
    "            raise ValueError(f\"Unknown amino acid: {aa} in peptide {peptide_string}\")\n",
    "        mass_list.append(mass)\n",
    "    return mass_list\n",
    "\n",
    "def score_cyclic_peptide_against_spectrum(peptide_string, experimental_spectrum_list):\n",
    "    peptide_mass_list = amino_acid_string_to_mass_list(peptide_string) # Convert peptide string to list of masses\n",
    "    \n",
    "    theoretical_cyclospectrum_counter = get_cyclospectrum(peptide_mass_list) # Generate theoretical cyclospectrum for the peptide\n",
    "    \n",
    "    experimental_spectrum_counter = collections.Counter(experimental_spectrum_list) # Count values in the experimental spectrum\n",
    "    \n",
    "    total_score = 0\n",
    "    # For all masses in the theoretical spectrum\n",
    "    for mass, theo_count in theoretical_cyclospectrum_counter.items():\n",
    "        # Get the count of this mass in the experimental spectrum (0 if not present)\n",
    "        exp_count = experimental_spectrum_counter[mass]\n",
    "        # Add the minimum of the two counts (shared values of masses)\n",
    "        total_score += min(theo_count, exp_count)\n",
    "        \n",
    "    return total_score\n",
    "\n",
    "if __name__ == \"__main__\":\n",
    "    file_path = \"../data/rosalind_ba4f.txt\" \n",
    "    \n",
    "    peptide_input_str = \"\"\n",
    "    experimental_spectrum_input_str = \"\"\n",
    "    \n",
    "    with open(file_path, 'r') as f:\n",
    "        peptide_input_str = f.readline().strip()\n",
    "        experimental_spectrum_input_str = f.readline().strip()\n",
    "\n",
    "    # Convert experimental spectrum string to list of ints\n",
    "    experimental_spectrum = list(map(int, experimental_spectrum_input_str.split()))\n",
    "    final_score = score_cyclic_peptide_against_spectrum(peptide_input_str, experimental_spectrum)\n",
    "    \n",
    "    print(final_score)"
   ]
  },
  {
   "cell_type": "code",
   "execution_count": null,
   "id": "916d64fc-25f4-4a8e-ae09-e45132a5211b",
   "metadata": {},
   "outputs": [],
   "source": []
  }
 ],
 "metadata": {
  "kernelspec": {
   "display_name": "Python 3 (ipykernel)",
   "language": "python",
   "name": "python3"
  },
  "language_info": {
   "codemirror_mode": {
    "name": "ipython",
    "version": 3
   },
   "file_extension": ".py",
   "mimetype": "text/x-python",
   "name": "python",
   "nbconvert_exporter": "python",
   "pygments_lexer": "ipython3",
   "version": "3.11.7"
  }
 },
 "nbformat": 4,
 "nbformat_minor": 5
}
