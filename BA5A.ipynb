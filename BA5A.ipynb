{
 "cells": [
  {
   "cell_type": "code",
   "execution_count": 4,
   "id": "056061ec-8585-4a41-8994-ed212fe5ef51",
   "metadata": {},
   "outputs": [
    {
     "name": "stdout",
     "output_type": "stream",
     "text": [
      "760\n"
     ]
    }
   ],
   "source": [
    "def min_coins(money, coins):\n",
    "    dp = [float('inf')] * (money + 1)\n",
    "\n",
    "    dp[0] = 0\n",
    "\n",
    "    for i in range(1, money +1):\n",
    "        for coin in coins:\n",
    "            if coin <= i:\n",
    "                dp[i] = min(dp[i], dp[i-coin]+1)\n",
    "\n",
    "    return dp[money] if dp[money] != float('inf') else -1\n",
    "\n",
    "if __name__ == \"__main__\":\n",
    "    with open(\"../data/rosalind_ba5a.txt\") as f:\n",
    "        money = int(f.readline().strip())\n",
    "        coins = list(map(int, f.readline().strip().split(\",\")))\n",
    "    result = min_coins(money, coins)\n",
    "    print(result)\n"
   ]
  },
  {
   "cell_type": "code",
   "execution_count": null,
   "id": "8d3f8c14-9426-429a-9792-cadc2db9077c",
   "metadata": {},
   "outputs": [],
   "source": []
  }
 ],
 "metadata": {
  "kernelspec": {
   "display_name": "Python 3 (ipykernel)",
   "language": "python",
   "name": "python3"
  },
  "language_info": {
   "codemirror_mode": {
    "name": "ipython",
    "version": 3
   },
   "file_extension": ".py",
   "mimetype": "text/x-python",
   "name": "python",
   "nbconvert_exporter": "python",
   "pygments_lexer": "ipython3",
   "version": "3.11.7"
  }
 },
 "nbformat": 4,
 "nbformat_minor": 5
}
