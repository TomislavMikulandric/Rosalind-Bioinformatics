{
 "cells": [
  {
   "cell_type": "code",
   "execution_count": 6,
   "id": "bbd789d0-5f21-48e0-80e2-4618dd1db958",
   "metadata": {},
   "outputs": [
    {
     "name": "stdout",
     "output_type": "stream",
     "text": [
      "AGGGTCGTTCA \n"
     ]
    }
   ],
   "source": [
    "def FrequentWords(text, k):\n",
    "    word_count = {}\n",
    "    for i in range(len(text)-k+1):\n",
    "        if text[i:i+k] not in word_count:\n",
    "            word_count[text[i:i+k]] = 0\n",
    "        word_count[text[i:i+k]] += 1\n",
    "    frequent_count = max(word_count.values())\n",
    "    for k,v in word_count.items():\n",
    "        if v==frequent_count:\n",
    "            print(k,end =\" \")\n",
    "    print()\n",
    "    return word_count\n",
    "\n",
    "if __name__ == \"__main__\":\n",
    "    with open(\"../data/rosalind_ba1b.txt\", \"r\") as f:\n",
    "        text = f.readline().strip()\n",
    "        k = int(f.readline().strip())\n",
    "    FrequentWords(text, k)"
   ]
  },
  {
   "cell_type": "code",
   "execution_count": null,
   "id": "3342e290-b8f8-4f10-a538-352e33cbaff0",
   "metadata": {},
   "outputs": [],
   "source": []
  }
 ],
 "metadata": {
  "kernelspec": {
   "display_name": "Python 3 (ipykernel)",
   "language": "python",
   "name": "python3"
  },
  "language_info": {
   "codemirror_mode": {
    "name": "ipython",
    "version": 3
   },
   "file_extension": ".py",
   "mimetype": "text/x-python",
   "name": "python",
   "nbconvert_exporter": "python",
   "pygments_lexer": "ipython3",
   "version": "3.11.7"
  }
 },
 "nbformat": 4,
 "nbformat_minor": 5
}
