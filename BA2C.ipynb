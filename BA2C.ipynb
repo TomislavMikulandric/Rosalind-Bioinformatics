{
 "cells": [
  {
   "cell_type": "code",
   "execution_count": 2,
   "id": "d3fdc0db-6ef0-4707-ac73-822d82d3285c",
   "metadata": {},
   "outputs": [
    {
     "name": "stdout",
     "output_type": "stream",
     "text": [
      "CCTTTA\n"
     ]
    }
   ],
   "source": [
    "def probability_kmer(kmer, profile):\n",
    "    prob = 1\n",
    "    for i, nucleotide in enumerate(kmer):\n",
    "        if nucleotide == \"A\":\n",
    "            prob *= profile[0][i]\n",
    "        elif nucleotide == \"C\":\n",
    "            prob*= profile[1][i]\n",
    "        elif nucleotide == \"G\":\n",
    "            prob *= profile[2][i]\n",
    "        elif nucleotide == \"T\":\n",
    "            prob *= profile[3][i]\n",
    "    return prob\n",
    "\n",
    "def f_most_probable_kmer(text, k, profile):\n",
    "    max_prob = -1\n",
    "    most_probable_kmer = \"\"\n",
    "    for i in range(len(text)-k+1):\n",
    "        kmer = text[i:i+k]\n",
    "        prob = probability_kmer(kmer, profile)\n",
    "        if prob > max_prob:\n",
    "            max_prob = prob\n",
    "            most_probable_kmer = kmer\n",
    "\n",
    "    return most_probable_kmer\n",
    "\n",
    "if __name__ == \"__main__\":\n",
    "    with open(\"../data/rosalind_ba2c.txt\") as f:\n",
    "        text = f.readline().strip()\n",
    "        k = int(f.readline().strip())\n",
    "        profile = [list(map(float, f.readline().strip().split())) for _ in range(4)]\n",
    "    result = f_most_probable_kmer(text, k, profile)\n",
    "    print(result)"
   ]
  },
  {
   "cell_type": "code",
   "execution_count": null,
   "id": "d8ffcecb-e2ff-43fc-98bd-ac9c7f115c9f",
   "metadata": {},
   "outputs": [],
   "source": []
  }
 ],
 "metadata": {
  "kernelspec": {
   "display_name": "Python 3 (ipykernel)",
   "language": "python",
   "name": "python3"
  },
  "language_info": {
   "codemirror_mode": {
    "name": "ipython",
    "version": 3
   },
   "file_extension": ".py",
   "mimetype": "text/x-python",
   "name": "python",
   "nbconvert_exporter": "python",
   "pygments_lexer": "ipython3",
   "version": "3.11.7"
  }
 },
 "nbformat": 4,
 "nbformat_minor": 5
}
