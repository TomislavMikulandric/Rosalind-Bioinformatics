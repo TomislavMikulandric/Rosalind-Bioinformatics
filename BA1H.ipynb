{
 "cells": [
  {
   "cell_type": "code",
   "execution_count": 6,
   "id": "ad1dc2b0-907d-464b-9af0-1d0792bc01ab",
   "metadata": {},
   "outputs": [
    {
     "name": "stdout",
     "output_type": "stream",
     "text": [
      "1787 2475 3316 3525 3674 3940 5645 5851 6008 6150 6977 7030 7149 7638 8098 8477 8520 8797 8990 9466 9883 9948 9963 10349 10422 10641 10673 10897 11008 11756 13107 13423 13842 14315 14525 14913 14941 15254 15419 15534 15899 16211 16574 16890 17406 "
     ]
    }
   ],
   "source": [
    "def HammingDistance(s1,s2):\n",
    "    return sum(c1 != c2 for c1, c2 in zip(s1,s2))\n",
    "\n",
    "def ApproximatePattern(pattern, text, d):\n",
    "    positions = []\n",
    "    for i in range(len(text)-len(pattern)+1):\n",
    "        if HammingDistance(pattern, text[i:i+len(pattern)]) <= d:\n",
    "            print(i, end=\" \")\n",
    "            positions.append(i)\n",
    "    return positions\n",
    "\n",
    "if __name__ == \"__main__\":\n",
    "    with open(\"../data/rosalind_ba1h.txt\") as f:\n",
    "        pattern = f.readline().strip()\n",
    "        text = f.readline().strip()\n",
    "        d = int(f.readline().strip())\n",
    "    ApproximatePattern(pattern, text, d)\n",
    "        "
   ]
  },
  {
   "cell_type": "code",
   "execution_count": null,
   "id": "5f3efb90-62e1-437e-bb3f-6f32d69be048",
   "metadata": {},
   "outputs": [],
   "source": []
  }
 ],
 "metadata": {
  "kernelspec": {
   "display_name": "Python 3 (ipykernel)",
   "language": "python",
   "name": "python3"
  },
  "language_info": {
   "codemirror_mode": {
    "name": "ipython",
    "version": 3
   },
   "file_extension": ".py",
   "mimetype": "text/x-python",
   "name": "python",
   "nbconvert_exporter": "python",
   "pygments_lexer": "ipython3",
   "version": "3.11.7"
  }
 },
 "nbformat": 4,
 "nbformat_minor": 5
}
