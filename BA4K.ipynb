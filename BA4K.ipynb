{
 "cells": [
  {
   "cell_type": "code",
   "execution_count": 17,
   "id": "8e432e65-81e2-4098-bda8-e214a4645913",
   "metadata": {},
   "outputs": [
    {
     "name": "stdout",
     "output_type": "stream",
     "text": [
      "214\n"
     ]
    }
   ],
   "source": [
    "\n",
    "from collections import Counter\n",
    "# Amino acid mass table\n",
    "amino_acid_mass = {\n",
    "    'G': 57, 'A': 71, 'S': 87, 'P': 97, 'V': 99,\n",
    "    'T': 101, 'C': 103, 'I': 113, 'L': 113, 'N': 114,\n",
    "    'D': 115, 'K': 128, 'Q': 128, 'E': 129, 'M': 131,\n",
    "    'H': 137, 'F': 147, 'R': 156, 'Y': 163, 'W': 186\n",
    "}\n",
    "\n",
    "def linear_spectrum(peptide):\n",
    "    prefix_mass = [0]\n",
    "    for aa in peptide:\n",
    "        prefix_mass.append(prefix_mass[-1]+amino_acid_mass[aa])\n",
    "\n",
    "    lin_spectrum = [0]\n",
    "    for i in range(len(prefix_mass)):\n",
    "        for j in range(i+1, len(prefix_mass)):\n",
    "            lin_spectrum.append(prefix_mass[j] - prefix_mass[i])\n",
    "    return sorted(lin_spectrum)\n",
    "\n",
    "def linear_score(peptide, spectrum):\n",
    "    peptide_spectrum = linear_spectrum(peptide)\n",
    "    peptide_spectrum_count = Counter(peptide_spectrum)\n",
    "    spectrum_count = Counter(spectrum)\n",
    "\n",
    "    score = 0\n",
    "    for mass in peptide_spectrum_count:\n",
    "        score += min(peptide_spectrum_count[mass], spectrum_count[mass])\n",
    "    return score\n",
    "\n",
    "if __name__ == \"__main__\":\n",
    "    with open(\"../data/rosalind_ba4k.txt\") as f:\n",
    "        peptide = f.readline().strip()\n",
    "        #spectrum = [line.strip() for line in f\n",
    "        spectrum = list(map(int, f.readline().strip().split()))\n",
    "    result = linear_score(peptide, spectrum)\n",
    "    print(result)"
   ]
  },
  {
   "cell_type": "code",
   "execution_count": null,
   "id": "76126b52-e36c-4991-9bc9-8f4a46e16aa1",
   "metadata": {},
   "outputs": [],
   "source": []
  }
 ],
 "metadata": {
  "kernelspec": {
   "display_name": "Python 3 (ipykernel)",
   "language": "python",
   "name": "python3"
  },
  "language_info": {
   "codemirror_mode": {
    "name": "ipython",
    "version": 3
   },
   "file_extension": ".py",
   "mimetype": "text/x-python",
   "name": "python",
   "nbconvert_exporter": "python",
   "pygments_lexer": "ipython3",
   "version": "3.11.7"
  }
 },
 "nbformat": 4,
 "nbformat_minor": 5
}
