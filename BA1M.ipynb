{
 "cells": [
  {
   "cell_type": "code",
   "execution_count": 1,
   "id": "6947b597-2a5b-48fc-bec8-46c34ea763aa",
   "metadata": {},
   "outputs": [
    {
     "name": "stdout",
     "output_type": "stream",
     "text": [
      "AAAAGAGAGAT\n"
     ]
    }
   ],
   "source": [
    "def NumberToPattern(number, length):\n",
    "    letter_value = {0:\"A\", 1:\"C\", 2:\"G\", 3:\"T\"}\n",
    "    sequence = ''\n",
    "    for i in range(length):\n",
    "        sequence = letter_value[number % 4] + sequence\n",
    "        number = number // 4\n",
    "    return sequence\n",
    "\n",
    "if __name__ == \"__main__\":\n",
    "    with open(\"../data/rosalind_ba1m.txt\", \"r\") as f:\n",
    "        index = int(f.readline().strip())\n",
    "        k = int(f.readline().strip())\n",
    "    print(NumberToPattern(index, k))"
   ]
  },
  {
   "cell_type": "code",
   "execution_count": null,
   "id": "c52e227b-db1e-4e95-b397-e9fcc73dec72",
   "metadata": {},
   "outputs": [],
   "source": []
  }
 ],
 "metadata": {
  "kernelspec": {
   "display_name": "Python 3 (ipykernel)",
   "language": "python",
   "name": "python3"
  },
  "language_info": {
   "codemirror_mode": {
    "name": "ipython",
    "version": 3
   },
   "file_extension": ".py",
   "mimetype": "text/x-python",
   "name": "python",
   "nbconvert_exporter": "python",
   "pygments_lexer": "ipython3",
   "version": "3.11.7"
  }
 },
 "nbformat": 4,
 "nbformat_minor": 5
}
