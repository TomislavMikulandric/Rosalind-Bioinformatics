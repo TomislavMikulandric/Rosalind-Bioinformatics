{
 "cells": [
  {
   "cell_type": "code",
   "execution_count": 3,
   "id": "aa4c40a8-dd36-43fd-9ef2-66718eb7210f",
   "metadata": {},
   "outputs": [
    {
     "name": "stdout",
     "output_type": "stream",
     "text": [
      "23 177 202 340 347 354 374 390 408 441 448 463 470 485 536 583 600 624 641 684 700 723 766 793 808 918 925 932 970 996 1052 1076 1083 1090 1107 1138 1232 1252 1272 1279 1294 1331 1350 1364 1404 1454 1477 1484 1503 1562 1577 1649 1720 1739 1778 1812 1827 1848 1882 1899 1955 1979 1994 2044 2059 2097 2219 2238 2273 2341 2348 2355 2380 2387 2459 2563 2605 2612 2630 2723 2756 2803 2855 2878 2977 3015 3031 3051 3058 3065 3072 3079 3161 3246 3263 3326 3395 3414 3444 3461 3518 3525 3532 3563 3570 3597 3650 3722 3738 3753 3769 3787 3796 3811 3972 4004 4021 4205 4309 4325 4332 4339 4350 4391 4406 4413 4458 4465 4480 4493 4500 4507 4579 4629 4666 4673 4690 4707 4714 4730 4737 4744 4768 4791 4798 4813 4883 4890 4906 5023 5041 5062 5078 5085 5161 5222 5229 5284 5291 5308 5315 5347 5390 5473 5488 5495 5516 5523 5550 5584 5609 5650 5676 5713 5755 5762 5825 5873 5880 5929 5963 5978 5985 6052 6059 6094 6101 6140 6147 6243 6271 6334 6341 6384 6449 6456 6497 6604 6611 6618 6634 6699 6716 6749 6766 6773 6825 6859 6866 6892 6920 6935 6972 6979 6998 7016 7058 7078 7112 7119 7200 7207 7229 7246 7304 7391 7414 7465 7514 7521 7557 7590 7629 7697 7756 7791 7840 7855 7862 7874 7908 7920 7951 8033 8058 8074 8097 8122 8129 8136 8155 8170 8209 8223 8261 8278 8356 8395 8430 8457 8464 8481 8550 8623 8638 8684 8796 8852 8895 8917 \n"
     ]
    }
   ],
   "source": [
    "def PositionsPattern(pattern, text):\n",
    "    positions = []\n",
    "    for i in range(len(text)-len(pattern)+1):\n",
    "        if text[i:i+len(pattern)] == pattern:\n",
    "            positions.append(i)\n",
    "            print(i, end=\" \")\n",
    "    print()\n",
    "    return positions\n",
    "\n",
    "if __name__ == \"__main__\":\n",
    "    with open(\"../data/rosalind_ba1d.txt\", \"r\") as f:\n",
    "        pattern = f.readline().strip()\n",
    "        text = f.readline().strip()\n",
    "    PositionsPattern(pattern, text)\n"
   ]
  },
  {
   "cell_type": "code",
   "execution_count": null,
   "id": "50a2964f-f89b-4187-86a1-39f515b8701f",
   "metadata": {},
   "outputs": [],
   "source": []
  }
 ],
 "metadata": {
  "kernelspec": {
   "display_name": "Python 3 (ipykernel)",
   "language": "python",
   "name": "python3"
  },
  "language_info": {
   "codemirror_mode": {
    "name": "ipython",
    "version": 3
   },
   "file_extension": ".py",
   "mimetype": "text/x-python",
   "name": "python",
   "nbconvert_exporter": "python",
   "pygments_lexer": "ipython3",
   "version": "3.11.7"
  }
 },
 "nbformat": 4,
 "nbformat_minor": 5
}
