{
 "cells": [
  {
   "cell_type": "code",
   "execution_count": 1,
   "id": "cea4a971-bb8b-4291-863b-1bd54e7542bc",
   "metadata": {},
   "outputs": [
    {
     "name": "stdout",
     "output_type": "stream",
     "text": [
      "TGGTGGGGACGCGCGTATGAGTTTGGACAT\n",
      "TGGTGGGGAAGAGCATATGAGTTCGGTCAT\n",
      "GTGACCGAACTCGTAGGCCCGACCCCACCA\n",
      "TGGTGGGGACGAGCATACGAATTTGGGCAC\n",
      "ATGTCCAAATTCATACGCCCTCCCCCACCA\n",
      "ATGTCCGAATTCGTAAGCACGCCCCCACCA\n",
      "TGGTGGGGGCGCGCTTACGAGTTCGGCCAC\n",
      "TGGTGGGGACGGGCCTACGAATTCGGCCAC\n",
      "ATGTCCGAACTCGTATGCCCTTCCCCACCA\n",
      "GTGCCCAAACTCATATGCTCGTCCCCACCA\n",
      "GTGGCCAAATTCGTAGGCACGGCCCCACCA\n",
      "GTGCCCAAATTCATAGGCTCTCCCCCACCA\n",
      "GTGTCCGAACTCATATGCTCGGCCCCACCA\n",
      "ATGACCAAACTCGTACGCACGCCCCCACCA\n",
      "ATGACCAAACTCATAGGCACGTCCCCACCA\n",
      "GTGCCCAAATTCGTATGCTCGTCCCCACCA\n",
      "TGGTGGGGTCGCGCGTATGAGTTTGGCCAC\n",
      "GTGGCCAAACTCGTACGCTCGTCCCCACCA\n",
      "GTGGCCGAATTCGTATGCCCGGCCCCACCA\n",
      "ATGTCCGAACTCGTAAGCTCTCCCCCACCA\n"
     ]
    }
   ],
   "source": [
    "# DNA codon table\n",
    "dna_codon_table = {\n",
    "    'TTT': 'F', 'TTC': 'F', 'TTA': 'L', 'TTG': 'L',\n",
    "    'TCT': 'S', 'TCC': 'S', 'TCA': 'S', 'TCG': 'S',\n",
    "    'TAT': 'Y', 'TAC': 'Y', 'TAA': 'Stop', 'TAG': 'Stop',\n",
    "    'TGT': 'C', 'TGC': 'C', 'TGA': 'Stop', 'TGG': 'W',\n",
    "    'CTT': 'L', 'CTC': 'L', 'CTA': 'L', 'CTG': 'L',\n",
    "    'CCT': 'P', 'CCC': 'P', 'CCA': 'P', 'CCG': 'P',\n",
    "    'CAT': 'H', 'CAC': 'H', 'CAA': 'Q', 'CAG': 'Q',\n",
    "    'CGT': 'R', 'CGC': 'R', 'CGA': 'R', 'CGG': 'R',\n",
    "    'ATT': 'I', 'ATC': 'I', 'ATA': 'I', 'ATG': 'M',\n",
    "    'ACT': 'T', 'ACC': 'T', 'ACA': 'T', 'ACG': 'T',\n",
    "    'AAT': 'N', 'AAC': 'N', 'AAA': 'K', 'AAG': 'K',\n",
    "    'AGT': 'S', 'AGC': 'S', 'AGA': 'R', 'AGG': 'R',\n",
    "    'GTT': 'V', 'GTC': 'V', 'GTA': 'V', 'GTG': 'V',\n",
    "    'GCT': 'A', 'GCC': 'A', 'GCA': 'A', 'GCG': 'A',\n",
    "    'GAT': 'D', 'GAC': 'D', 'GAA': 'E', 'GAG': 'E',\n",
    "    'GGT': 'G', 'GGC': 'G', 'GGA': 'G', 'GGG': 'G'\n",
    "}\n",
    "\n",
    "def reverse_complement(dna):\n",
    "    complement = {\"A\": \"T\", \"T\": \"A\", \"G\": \"C\", \"C\": \"G\"}\n",
    "    return \"\".join(complement[base] for base in reversed(dna))\n",
    "\n",
    "def translate_dna_to_protein(dna):\n",
    "    protein = []\n",
    "    for i in range(0, len(dna) - 2, 3):\n",
    "        codon = dna[i:i+3]\n",
    "        if len(codon) == 3:\n",
    "            amino_acid = dna_codon_table[codon]\n",
    "            if amino_acid == 'Stop':\n",
    "                break\n",
    "            protein.append(amino_acid)\n",
    "    return ''.join(protein)\n",
    "\n",
    "def find_encoding_substrings(dna, peptide):\n",
    "    peptide_length = len(peptide)\n",
    "    dna_length = len(dna)\n",
    "    substring_length = peptide_length * 3\n",
    "    \n",
    "    encoding_substrings = []\n",
    "    \n",
    "    for i in range(dna_length - substring_length + 1):\n",
    "        substring = dna[i:i+substring_length]\n",
    "        reverse_substring = reverse_complement(substring)\n",
    "        \n",
    "        if (translate_dna_to_protein(substring) == peptide or\n",
    "            translate_dna_to_protein(reverse_substring) == peptide):\n",
    "            encoding_substrings.append(substring)\n",
    "    \n",
    "    return encoding_substrings\n",
    "\n",
    "if __name__ == \"__main__\":\n",
    "    with open(\"../data/rosalind_ba4b.txt\") as f:\n",
    "        dna = f.readline().strip()\n",
    "        peptide = f.readline().strip()\n",
    "    result = find_encoding_substrings(dna, peptide)\n",
    "    for codon in result:\n",
    "        print(codon)\n",
    "    "
   ]
  },
  {
   "cell_type": "code",
   "execution_count": null,
   "id": "3af45c77-4e67-4e2d-b811-bcee4e9e1eeb",
   "metadata": {},
   "outputs": [],
   "source": []
  }
 ],
 "metadata": {
  "kernelspec": {
   "display_name": "Python 3 (ipykernel)",
   "language": "python",
   "name": "python3"
  },
  "language_info": {
   "codemirror_mode": {
    "name": "ipython",
    "version": 3
   },
   "file_extension": ".py",
   "mimetype": "text/x-python",
   "name": "python",
   "nbconvert_exporter": "python",
   "pygments_lexer": "ipython3",
   "version": "3.11.7"
  }
 },
 "nbformat": 4,
 "nbformat_minor": 5
}
