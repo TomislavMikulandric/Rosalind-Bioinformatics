{
 "cells": [
  {
   "cell_type": "code",
   "execution_count": 1,
   "id": "205e824f-7fea-44ca-8f25-e5cacf39dcf5",
   "metadata": {},
   "outputs": [
    {
     "name": "stdout",
     "output_type": "stream",
     "text": [
      "21.0 3.4 20.7\n",
      "6.1 31.7 1.7\n",
      "0.2 1.8 1.2\n",
      "0.7 19.1 28.2\n"
     ]
    }
   ],
   "source": [
    "import math\n",
    "\n",
    "def euclidean_distance(point1, point2):\n",
    "    return math.sqrt(sum((a - b) ** 2 for a, b in zip(point1, point2)))\n",
    "\n",
    "def distance_to_centers(point, centers):\n",
    "    return min(euclidean_distance(point, center) for center in centers)\n",
    "\n",
    "def farthest_first_traversal(data, k):\n",
    "    centers = [data[0]]  # Initialize with the first point\n",
    "    \n",
    "    while len(centers) < k:\n",
    "        farthest_point = max(data, key=lambda x: distance_to_centers(x, centers))\n",
    "        centers.append(farthest_point)\n",
    "    \n",
    "    return centers\n",
    "\n",
    "if __name__ == \"__main__\":\n",
    "    with open(\"../data/rosalind_ba8a.txt\") as f:\n",
    "        k, m = map(int, f.readline().strip().split())\n",
    "        data = []\n",
    "        for line in f:\n",
    "            point = tuple(map(float, line.strip().split()))\n",
    "            data.append(point)\n",
    "\n",
    "    result = farthest_first_traversal(data, k)\n",
    "    for center in result:\n",
    "        print(' '.join(map(str, center)))"
   ]
  },
  {
   "cell_type": "code",
   "execution_count": null,
   "id": "0a6907f4-3bb5-4510-bed9-7fb4c1e4ee28",
   "metadata": {},
   "outputs": [],
   "source": []
  }
 ],
 "metadata": {
  "kernelspec": {
   "display_name": "Python 3 (ipykernel)",
   "language": "python",
   "name": "python3"
  },
  "language_info": {
   "codemirror_mode": {
    "name": "ipython",
    "version": 3
   },
   "file_extension": ".py",
   "mimetype": "text/x-python",
   "name": "python",
   "nbconvert_exporter": "python",
   "pygments_lexer": "ipython3",
   "version": "3.11.7"
  }
 },
 "nbformat": 4,
 "nbformat_minor": 5
}
