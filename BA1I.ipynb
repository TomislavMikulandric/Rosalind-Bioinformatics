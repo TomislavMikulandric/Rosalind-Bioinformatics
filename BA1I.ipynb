{
 "cells": [
  {
   "cell_type": "code",
   "execution_count": 2,
   "id": "c3413a0e-16c5-4ad8-8995-eeeffa1c4cb6",
   "metadata": {},
   "outputs": [
    {
     "name": "stdout",
     "output_type": "stream",
     "text": [
      "CCAAA "
     ]
    }
   ],
   "source": [
    "from collections import defaultdict\n",
    "\n",
    "def neighbour(pattern, mismatch, words):\n",
    "    bases = ['A', 'T', 'G', 'C']\n",
    "    for i in range(len(pattern)):\n",
    "        for j in range(len(bases)):\n",
    "            new_pattern = pattern[:i] + bases[j] + pattern[i+1:]\n",
    "            if mismatch <= 1:\n",
    "                words.add(new_pattern)\n",
    "            else:\n",
    "                neighbour(new_pattern, mismatch - 1, words)\n",
    "\n",
    "\n",
    "def neighbour(pattern, mismatch, words):\n",
    "    bases = [\"A\", \"T\", \"G\", \"C\"]\n",
    "    for i in range(len(pattern)):\n",
    "        for j in range(len(bases)):\n",
    "            new_pattern = pattern[:i] + bases[j] + pattern[i+1:]\n",
    "            if mismatch <= 1:\n",
    "                words.add(new_pattern)\n",
    "            else:\n",
    "                neighbour(new_pattern, mismatch -1, words)\n",
    "\n",
    "\n",
    "if __name__ == \"__main__\":\n",
    "    with open(\"../data/rosalind_ba1i.txt\") as f:\n",
    "        text = f.readline().strip()\n",
    "        k, d = map(int, f.readline().strip().split())\n",
    "    FindMostFrequentWords(text, k, d)"
   ]
  },
  {
   "cell_type": "code",
   "execution_count": 3,
   "id": "6334aa1b-1c19-4b68-9adf-4e45494b1c86",
   "metadata": {},
   "outputs": [
    {
     "name": "stdout",
     "output_type": "stream",
     "text": [
      "Most frequent 4-mers with up to 1 mismatches (including reverse complements):\n",
      "ACAT ATGT\n"
     ]
    }
   ],
   "source": [
    "from collections import defaultdict\n",
    "from itertools import product\n",
    "from Bio.Seq import Seq\n",
    "\n",
    "def generate_all_kmers(k):\n",
    "    return [''.join(p) for p in product('ACGT', repeat=k)]\n",
    "\n",
    "def hamming_distance(s1, s2):\n",
    "    return sum(c1 != c2 for c1, c2 in zip(s1, s2))\n",
    "\n",
    "def reverse_complement(pattern):\n",
    "    complement = {'A': 'T', 'C': 'G', 'G': 'C', 'T': 'A'}\n",
    "    return ''.join(complement[base] for base in reversed(pattern))\n",
    "\n",
    "def frequent_words_with_mismatches_and_reverse_complements(text, k, d):\n",
    "    frequency = defaultdict(int)\n",
    "    all_kmers = generate_all_kmers(k)\n",
    "    \n",
    "    # Count occurrences of each k-mer and its reverse complement\n",
    "    for i in range(len(text) - k + 1):\n",
    "        pattern = text[i:i+k]\n",
    "        for kmer in all_kmers:\n",
    "            if hamming_distance(kmer, pattern) <= d:\n",
    "                frequency[kmer] += 1\n",
    "                frequency[reverse_complement(kmer)] += 1\n",
    "    \n",
    "    max_count = max(frequency.values())\n",
    "    return [kmer for kmer, count in frequency.items() if count == max_count]\n",
    "\n",
    "# Example usage\n",
    "text = \"ACGTTGCATGTCGCATGATGCATGAGAGCT\"\n",
    "k = 4\n",
    "d = 1\n",
    "result = frequent_words_with_mismatches_and_reverse_complements(text, k, d)\n",
    "print(f\"Most frequent {k}-mers with up to {d} mismatches (including reverse complements):\")\n",
    "print(\" \".join(result))"
   ]
  },
  {
   "cell_type": "code",
   "execution_count": 4,
   "id": "0da1d4cf-e7ab-4339-a032-93efe9091b3a",
   "metadata": {},
   "outputs": [
    {
     "name": "stdout",
     "output_type": "stream",
     "text": [
      "['AAAA', 'AAAC', 'AAAG', 'AAAT', 'AACA', 'AACC', 'AACG', 'AACT', 'AAGA', 'AAGC', 'AAGG', 'AAGT', 'AATA', 'AATC', 'AATG', 'AATT', 'ACAA', 'ACAC', 'ACAG', 'ACAT', 'ACCA', 'ACCC', 'ACCG', 'ACCT', 'ACGA', 'ACGC', 'ACGG', 'ACGT', 'ACTA', 'ACTC', 'ACTG', 'ACTT', 'AGAA', 'AGAC', 'AGAG', 'AGAT', 'AGCA', 'AGCC', 'AGCG', 'AGCT', 'AGGA', 'AGGC', 'AGGG', 'AGGT', 'AGTA', 'AGTC', 'AGTG', 'AGTT', 'ATAA', 'ATAC', 'ATAG', 'ATAT', 'ATCA', 'ATCC', 'ATCG', 'ATCT', 'ATGA', 'ATGC', 'ATGG', 'ATGT', 'ATTA', 'ATTC', 'ATTG', 'ATTT', 'CAAA', 'CAAC', 'CAAG', 'CAAT', 'CACA', 'CACC', 'CACG', 'CACT', 'CAGA', 'CAGC', 'CAGG', 'CAGT', 'CATA', 'CATC', 'CATG', 'CATT', 'CCAA', 'CCAC', 'CCAG', 'CCAT', 'CCCA', 'CCCC', 'CCCG', 'CCCT', 'CCGA', 'CCGC', 'CCGG', 'CCGT', 'CCTA', 'CCTC', 'CCTG', 'CCTT', 'CGAA', 'CGAC', 'CGAG', 'CGAT', 'CGCA', 'CGCC', 'CGCG', 'CGCT', 'CGGA', 'CGGC', 'CGGG', 'CGGT', 'CGTA', 'CGTC', 'CGTG', 'CGTT', 'CTAA', 'CTAC', 'CTAG', 'CTAT', 'CTCA', 'CTCC', 'CTCG', 'CTCT', 'CTGA', 'CTGC', 'CTGG', 'CTGT', 'CTTA', 'CTTC', 'CTTG', 'CTTT', 'GAAA', 'GAAC', 'GAAG', 'GAAT', 'GACA', 'GACC', 'GACG', 'GACT', 'GAGA', 'GAGC', 'GAGG', 'GAGT', 'GATA', 'GATC', 'GATG', 'GATT', 'GCAA', 'GCAC', 'GCAG', 'GCAT', 'GCCA', 'GCCC', 'GCCG', 'GCCT', 'GCGA', 'GCGC', 'GCGG', 'GCGT', 'GCTA', 'GCTC', 'GCTG', 'GCTT', 'GGAA', 'GGAC', 'GGAG', 'GGAT', 'GGCA', 'GGCC', 'GGCG', 'GGCT', 'GGGA', 'GGGC', 'GGGG', 'GGGT', 'GGTA', 'GGTC', 'GGTG', 'GGTT', 'GTAA', 'GTAC', 'GTAG', 'GTAT', 'GTCA', 'GTCC', 'GTCG', 'GTCT', 'GTGA', 'GTGC', 'GTGG', 'GTGT', 'GTTA', 'GTTC', 'GTTG', 'GTTT', 'TAAA', 'TAAC', 'TAAG', 'TAAT', 'TACA', 'TACC', 'TACG', 'TACT', 'TAGA', 'TAGC', 'TAGG', 'TAGT', 'TATA', 'TATC', 'TATG', 'TATT', 'TCAA', 'TCAC', 'TCAG', 'TCAT', 'TCCA', 'TCCC', 'TCCG', 'TCCT', 'TCGA', 'TCGC', 'TCGG', 'TCGT', 'TCTA', 'TCTC', 'TCTG', 'TCTT', 'TGAA', 'TGAC', 'TGAG', 'TGAT', 'TGCA', 'TGCC', 'TGCG', 'TGCT', 'TGGA', 'TGGC', 'TGGG', 'TGGT', 'TGTA', 'TGTC', 'TGTG', 'TGTT', 'TTAA', 'TTAC', 'TTAG', 'TTAT', 'TTCA', 'TTCC', 'TTCG', 'TTCT', 'TTGA', 'TTGC', 'TTGG', 'TTGT', 'TTTA', 'TTTC', 'TTTG', 'TTTT']\n"
     ]
    }
   ],
   "source": [
    "from collections import defaultdict\n",
    "from itertools import product\n",
    "\n",
    "def generate_all_kmers(k):\n",
    "    return [''.join(p) for p in product('ACGT', repeat=k)]\n",
    "\n",
    "print(generate_all_kmers(4))"
   ]
  },
  {
   "cell_type": "code",
   "execution_count": null,
   "id": "132776fa-4cc8-4680-ac32-d2e49e17b9a4",
   "metadata": {},
   "outputs": [],
   "source": []
  }
 ],
 "metadata": {
  "kernelspec": {
   "display_name": "Python 3 (ipykernel)",
   "language": "python",
   "name": "python3"
  },
  "language_info": {
   "codemirror_mode": {
    "name": "ipython",
    "version": 3
   },
   "file_extension": ".py",
   "mimetype": "text/x-python",
   "name": "python",
   "nbconvert_exporter": "python",
   "pygments_lexer": "ipython3",
   "version": "3.11.7"
  }
 },
 "nbformat": 4,
 "nbformat_minor": 5
}
