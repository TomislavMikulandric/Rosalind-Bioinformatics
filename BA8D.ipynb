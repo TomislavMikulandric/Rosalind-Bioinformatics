{
 "cells": [
  {
   "cell_type": "code",
   "execution_count": 2,
   "id": "5fafbedb-e672-4f89-ac56-5a1890a22fc3",
   "metadata": {},
   "outputs": [
    {
     "name": "stdout",
     "output_type": "stream",
     "text": [
      "5.168 3.648 4.950\n",
      "8.824 20.244 8.608\n",
      "4.715 11.769 5.709\n",
      "17.488 5.940 6.236\n",
      "6.451 6.241 17.209\n"
     ]
    }
   ],
   "source": [
    "import math\n",
    "import random\n",
    "\n",
    "def euclidean_distance(point1, point2):\n",
    "    return math.sqrt(sum((a - b) ** 2 for a, b in zip(point1, point2)))\n",
    "\n",
    "def calculate_responsibilities(data, centers, beta):\n",
    "    responsibilities = []\n",
    "    for point in data:\n",
    "        row = []\n",
    "        denominator = sum(math.exp(-beta * euclidean_distance(point, center)) for center in centers)\n",
    "        for center in centers:\n",
    "            numerator = math.exp(-beta * euclidean_distance(point, center))\n",
    "            row.append(numerator / denominator)\n",
    "        responsibilities.append(row)\n",
    "    return responsibilities\n",
    "\n",
    "def update_centers(data, responsibilities):\n",
    "    new_centers = []\n",
    "    for i in range(len(responsibilities[0])):\n",
    "        numerator = [0] * len(data[0])\n",
    "        denominator = 0\n",
    "        for j in range(len(data)):\n",
    "            for d in range(len(data[0])):\n",
    "                numerator[d] += responsibilities[j][i] * data[j][d]\n",
    "            denominator += responsibilities[j][i]\n",
    "        new_center = [n / denominator for n in numerator]\n",
    "        new_centers.append(new_center)\n",
    "    return new_centers\n",
    "\n",
    "def soft_k_means(data, k, beta, max_iterations=100):\n",
    "    centers = random.sample(data, k)\n",
    "    \n",
    "    for _ in range(max_iterations):\n",
    "        responsibilities = calculate_responsibilities(data, centers, beta)\n",
    "        centers = update_centers(data, responsibilities)\n",
    "    \n",
    "    return centers\n",
    "\n",
    "def main():\n",
    "    with open(\"../data/rosalind_ba8d.txt\") as f:\n",
    "        k, m = map(int, f.readline().strip().split())\n",
    "        beta = float(f.readline().strip())\n",
    "        data = []\n",
    "        for line in f:\n",
    "            point = tuple(map(float, line.strip().split()))\n",
    "            data.append(point)\n",
    "\n",
    "    result = soft_k_means(data, k, beta)\n",
    "    for center in result:\n",
    "        print(' '.join(f\"{coord:.3f}\" for coord in center))\n",
    "\n",
    "if __name__ == \"__main__\":\n",
    "    main()"
   ]
  },
  {
   "cell_type": "code",
   "execution_count": null,
   "id": "e60eaf20-c656-4bbb-a8c6-13e5297e9335",
   "metadata": {},
   "outputs": [],
   "source": []
  }
 ],
 "metadata": {
  "kernelspec": {
   "display_name": "Python 3 (ipykernel)",
   "language": "python",
   "name": "python3"
  },
  "language_info": {
   "codemirror_mode": {
    "name": "ipython",
    "version": 3
   },
   "file_extension": ".py",
   "mimetype": "text/x-python",
   "name": "python",
   "nbconvert_exporter": "python",
   "pygments_lexer": "ipython3",
   "version": "3.11.7"
  }
 },
 "nbformat": 4,
 "nbformat_minor": 5
}
