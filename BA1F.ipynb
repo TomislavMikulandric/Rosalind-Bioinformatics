{
 "cells": [
  {
   "cell_type": "code",
   "execution_count": 3,
   "id": "667c4963-6b0b-4afa-a8af-7702bda859c8",
   "metadata": {},
   "outputs": [
    {
     "name": "stdout",
     "output_type": "stream",
     "text": [
      "79939 79940 79941 \n"
     ]
    }
   ],
   "source": [
    "def MinimumSkew(genome):\n",
    "    skew = [0]\n",
    "    for i in range(len(genome)):\n",
    "        if genome[i] == \"G\":\n",
    "            skew.append(skew[-1]+1)\n",
    "        elif genome[i] == \"C\":\n",
    "            skew.append(skew[-1]-1)\n",
    "        else:\n",
    "            skew.append(skew[-1])\n",
    "\n",
    "    minimum_skew = min(skew)\n",
    "    for i in range(len(skew)):\n",
    "        if skew[i] == minimum_skew:\n",
    "            print(i, end=\" \")\n",
    "    print()\n",
    "    return skew\n",
    "            \n",
    "\n",
    "\n",
    "if __name__ == \"__main__\":\n",
    "    with open(\"../data/rosalind_ba1f.txt\") as f:\n",
    "        genome = f.readline().strip()\n",
    "    MinimumSkew(genome)"
   ]
  },
  {
   "cell_type": "code",
   "execution_count": null,
   "id": "53427deb-2058-4661-8473-6dc215c42ffb",
   "metadata": {},
   "outputs": [],
   "source": []
  }
 ],
 "metadata": {
  "kernelspec": {
   "display_name": "Python 3 (ipykernel)",
   "language": "python",
   "name": "python3"
  },
  "language_info": {
   "codemirror_mode": {
    "name": "ipython",
    "version": 3
   },
   "file_extension": ".py",
   "mimetype": "text/x-python",
   "name": "python",
   "nbconvert_exporter": "python",
   "pygments_lexer": "ipython3",
   "version": "3.11.7"
  }
 },
 "nbformat": 4,
 "nbformat_minor": 5
}
