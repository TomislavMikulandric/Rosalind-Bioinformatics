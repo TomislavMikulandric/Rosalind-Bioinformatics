{
 "cells": [
  {
   "cell_type": "code",
   "execution_count": 4,
   "id": "4c19089c-9f7a-4379-9600-5c4f40684bfb",
   "metadata": {},
   "outputs": [
    {
     "name": "stdout",
     "output_type": "stream",
     "text": [
      "GGAGGT\n"
     ]
    }
   ],
   "source": [
    "from itertools import product\n",
    "\n",
    "def HammingDistance(s1,s2):\n",
    "    return sum(c1 != c2 for c1,c2 in zip(s1,s2))\n",
    "\n",
    "def generate_kmers(k):\n",
    "    return[''.join(p) for p in product(\"ACGT\", repeat = k)]\n",
    "\n",
    "def PatternDistance(pattern, text):\n",
    "    k = len(pattern)\n",
    "    return min(HammingDistance(pattern, text[i:i+k]) for i in range(len(text)-k+1))\n",
    "\n",
    "def TotalPatternDistance(pattern, dna):\n",
    "    return sum(PatternDistance(pattern, seq) for seq in dna)\n",
    "\n",
    "def FindMedianString(k, dna):\n",
    "    min_distance = float('inf')\n",
    "    median = ''\n",
    "\n",
    "    for pattern in generate_kmers(k):\n",
    "        pattern = \"\".join(pattern)\n",
    "        distance = TotalPatternDistance(pattern, dna)\n",
    "        if distance < min_distance:\n",
    "            min_distance = distance\n",
    "            median = pattern\n",
    "\n",
    "    return median\n",
    "    \n",
    "\n",
    "if __name__ == \"__main__\":\n",
    "    with open(\"../data/rosalind_ba2b.txt\") as f:\n",
    "        k = int(f.readline().strip())\n",
    "        dna = [line.strip() for line in f]\n",
    "    result = FindMedianString(k, dna)\n",
    "    print(result)\n"
   ]
  },
  {
   "cell_type": "code",
   "execution_count": null,
   "id": "1ddaa686-a068-43d3-bcf3-b600e83c5af9",
   "metadata": {},
   "outputs": [],
   "source": []
  }
 ],
 "metadata": {
  "kernelspec": {
   "display_name": "Python 3 (ipykernel)",
   "language": "python",
   "name": "python3"
  },
  "language_info": {
   "codemirror_mode": {
    "name": "ipython",
    "version": 3
   },
   "file_extension": ".py",
   "mimetype": "text/x-python",
   "name": "python",
   "nbconvert_exporter": "python",
   "pygments_lexer": "ipython3",
   "version": "3.11.7"
  }
 },
 "nbformat": 4,
 "nbformat_minor": 5
}
