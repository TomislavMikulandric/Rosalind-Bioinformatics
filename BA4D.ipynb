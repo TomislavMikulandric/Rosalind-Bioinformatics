{
 "cells": [
  {
   "cell_type": "code",
   "execution_count": 1,
   "id": "7307d81b-a514-4838-bd67-ac042be8f878",
   "metadata": {},
   "outputs": [
    {
     "name": "stdout",
     "output_type": "stream",
     "text": [
      "5533417829436954\n"
     ]
    }
   ],
   "source": [
    "amino_acid_masses = [57, 71, 87, 97, 99, 101, 103, 113, 114, 115, 128, 129, 131, 137, 147, 156, 163, 186]\n",
    "\n",
    "def count_peptides(target_mass):\n",
    "    dp = [0]*(target_mass + 1)\n",
    "    dp[0] = 1\n",
    "\n",
    "    for mass in range(1, target_mass +1):\n",
    "        for aa_mass in amino_acid_masses:\n",
    "            if mass>= aa_mass:\n",
    "                dp[mass] += dp[mass - aa_mass]\n",
    "    return dp[target_mass]\n",
    "\n",
    "if __name__ == \"__main__\":\n",
    "    with open(\"../data/rosalind_ba4d.txt\") as f:\n",
    "        target_mass = int(f.readline().strip())\n",
    "    result = count_peptides(target_mass)\n",
    "    print(result)"
   ]
  },
  {
   "cell_type": "code",
   "execution_count": null,
   "id": "45b394ba-ff51-49b7-947f-f4fe2564e115",
   "metadata": {},
   "outputs": [],
   "source": []
  }
 ],
 "metadata": {
  "kernelspec": {
   "display_name": "Python 3 (ipykernel)",
   "language": "python",
   "name": "python3"
  },
  "language_info": {
   "codemirror_mode": {
    "name": "ipython",
    "version": 3
   },
   "file_extension": ".py",
   "mimetype": "text/x-python",
   "name": "python",
   "nbconvert_exporter": "python",
   "pygments_lexer": "ipython3",
   "version": "3.11.7"
  }
 },
 "nbformat": 4,
 "nbformat_minor": 5
}
