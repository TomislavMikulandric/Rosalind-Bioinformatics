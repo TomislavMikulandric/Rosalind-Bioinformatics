{
 "cells": [
  {
   "cell_type": "code",
   "execution_count": 4,
   "id": "177fd219-6cfa-48db-a08b-607fdc9298d2",
   "metadata": {},
   "outputs": [
    {
     "name": "stdout",
     "output_type": "stream",
     "text": [
      "28\n"
     ]
    }
   ],
   "source": [
    "def PatternCount(text, pattern):\n",
    "    count = 0\n",
    "    for i in range(len(text)-len(pattern)+1):\n",
    "        if text[i:i+len(pattern)] == pattern:\n",
    "            count += 1\n",
    "    return count\n",
    "\n",
    "if __name__ ==\"__main__\":\n",
    "    with open(\"data/rosalind_ba1a.txt\", \"r\") as f:\n",
    "        text = f.readline().strip()\n",
    "        pattern = f.readline().strip()\n",
    "    print(PatternCount(text, pattern))"
   ]
  },
  {
   "cell_type": "code",
   "execution_count": null,
   "id": "794a7915-62ec-4b70-80b6-66112f61e3e5",
   "metadata": {},
   "outputs": [],
   "source": []
  },
  {
   "cell_type": "code",
   "execution_count": null,
   "id": "073d680f-0428-4d77-a0c4-81702de077b3",
   "metadata": {},
   "outputs": [],
   "source": []
  }
 ],
 "metadata": {
  "kernelspec": {
   "display_name": "Python 3 (ipykernel)",
   "language": "python",
   "name": "python3"
  },
  "language_info": {
   "codemirror_mode": {
    "name": "ipython",
    "version": 3
   },
   "file_extension": ".py",
   "mimetype": "text/x-python",
   "name": "python",
   "nbconvert_exporter": "python",
   "pygments_lexer": "ipython3",
   "version": "3.11.7"
  }
 },
 "nbformat": 4,
 "nbformat_minor": 5
}
