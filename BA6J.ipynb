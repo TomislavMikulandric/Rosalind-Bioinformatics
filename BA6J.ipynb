{
 "cells": [
  {
   "cell_type": "code",
   "execution_count": 1,
   "id": "2b1c63cf-a4ef-4147-a0ce-3843ac9befd8",
   "metadata": {},
   "outputs": [
    {
     "name": "stdout",
     "output_type": "stream",
     "text": [
      "(1, 126), (2, 3), (4, 5), (6, 8), (7, 9), (10, 12), (11, 13), (14, 15), (16, 18), (17, 20), (19, 21), (22, 24), (23, 26), (25, 28), (27, 30), (29, 32), (31, 33), (34, 36), (35, 37), (38, 39), (40, 42), (41, 43), (44, 45), (46, 47), (48, 49), (50, 51), (52, 55), (53, 56), (54, 58), (57, 59), (60, 61), (62, 64), (63, 65), (66, 67), (68, 69), (70, 71), (72, 73), (74, 75), (76, 78), (77, 79), (80, 82), (81, 84), (83, 86), (85, 88), (87, 89), (90, 91), (92, 94), (93, 95), (96, 98), (97, 100), (99, 102), (101, 104), (103, 105), (106, 107), (108, 110), (109, 111), (112, 113), (114, 115), (116, 117), (118, 119), (120, 122), (121, 123), (124, 125)\n"
     ]
    }
   ],
   "source": [
    "import re\n",
    "\n",
    "def parse_graph_edges(input_str):\n",
    "    edge_pairs = re.findall(r'\\((\\d+),\\s*(\\d+)\\)', input_str)\n",
    "    \n",
    "    # Sort the tuples - changes (6,1) to (1,6)\n",
    "    canonical_edges = set()\n",
    "    for u_str, v_str in edge_pairs:\n",
    "        u, v = int(u_str), int(v_str)\n",
    "        canonical_edges.add(tuple(sorted((u, v))))\n",
    "    return canonical_edges\n",
    "\n",
    "def parse_break_indices(input_str):\n",
    "    return list(map(int, input_str.split(', ')))\n",
    "\n",
    "def apply_2_break_on_graph(graph_edges_set, i, i_prime, j, j_prime):\n",
    "    edge_to_remove_1 = tuple(sorted((i, i_prime)))\n",
    "    edge_to_remove_2 = tuple(sorted((j, j_prime)))\n",
    "\n",
    "    graph_edges_set.remove(edge_to_remove_1)\n",
    "    graph_edges_set.remove(edge_to_remove_2)\n",
    "    \n",
    "    # Add the new sorted edges\n",
    "    new_edge_1 = tuple(sorted((i, j)))\n",
    "    new_edge_2 = tuple(sorted((i_prime, j_prime)))\n",
    "\n",
    "    graph_edges_set.add(new_edge_1)\n",
    "    graph_edges_set.add(new_edge_2)\n",
    "    \n",
    "    return graph_edges_set\n",
    "\n",
    "def format_edges_output(final_edges_set):\n",
    "    sorted_edges = sorted(list(final_edges_set))\n",
    "    \n",
    "    # Format each tuple into a string \"(u, v)\"\n",
    "    formatted_strings = [f\"({u}, {v})\" for u, v in sorted_edges]\n",
    "    return \", \".join(formatted_strings)\n",
    "\n",
    "if __name__ == \"__main__\":\n",
    "    file_path = \"../data/rosalind_ba6j.txt\" \n",
    "    \n",
    "    graph_input_str = \"\"\n",
    "    break_indices_str = \"\"\n",
    "    with open(file_path, 'r') as f:\n",
    "        graph_input_str = f.readline().strip()\n",
    "        break_indices_str = f.readline().strip()\n",
    "\n",
    "    initial_edges = parse_graph_edges(graph_input_str)\n",
    "    indices = parse_break_indices(break_indices_str)\n",
    "    i, i_prime, j, j_prime = indices[0], indices[1], indices[2], indices[3]\n",
    "    \n",
    "    # Do the break\n",
    "    final_edges = apply_2_break_on_graph(initial_edges, i, i_prime, j, j_prime)\n",
    "    final_output_str = format_edges_output(final_edges)\n",
    "    \n",
    "    print(final_output_str)"
   ]
  },
  {
   "cell_type": "code",
   "execution_count": null,
   "id": "83a92288-816c-44c5-bc1a-7f3160fc1947",
   "metadata": {},
   "outputs": [],
   "source": []
  }
 ],
 "metadata": {
  "kernelspec": {
   "display_name": "Python 3 (ipykernel)",
   "language": "python",
   "name": "python3"
  },
  "language_info": {
   "codemirror_mode": {
    "name": "ipython",
    "version": 3
   },
   "file_extension": ".py",
   "mimetype": "text/x-python",
   "name": "python",
   "nbconvert_exporter": "python",
   "pygments_lexer": "ipython3",
   "version": "3.11.7"
  }
 },
 "nbformat": 4,
 "nbformat_minor": 5
}
