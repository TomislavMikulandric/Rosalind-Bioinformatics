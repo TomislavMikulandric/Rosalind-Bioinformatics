{
 "cells": [
  {
   "cell_type": "code",
   "execution_count": 2,
   "id": "1f9e7957-6f66-4acc-9d45-15d7b1b68c19",
   "metadata": {},
   "outputs": [
    {
     "name": "stdout",
     "output_type": "stream",
     "text": [
      "0 71 87 87 101 103 113 128 129 129 131 147 158 163 174 186 188 218 230 231 242 250 258 259 261 275 299 302 310 317 317 359 362 371 378 381 388 389 397 404 428 430 438 446 449 472 490 491 517 517 525 528 536 541 557 559 559 567 612 619 620 628 630 637 646 656 658 680 688 699 699 714 733 745 748 759 766 775 786 789 800 809 816 827 830 842 861 876 876 887 895 917 919 929 938 945 947 955 956 963 1008 1016 1016 1018 1034 1039 1047 1050 1058 1058 1084 1085 1103 1126 1129 1137 1145 1147 1171 1178 1186 1187 1194 1197 1204 1213 1216 1258 1258 1265 1273 1276 1300 1314 1316 1317 1325 1333 1344 1345 1357 1387 1389 1401 1412 1417 1428 1444 1446 1446 1447 1462 1472 1474 1488 1488 1504 1575 "
     ]
    }
   ],
   "source": [
    "# Amino acid mass table\n",
    "amino_acid_mass = {\n",
    "    'G': 57, 'A': 71, 'S': 87, 'P': 97, 'V': 99,\n",
    "    'T': 101, 'C': 103, 'I': 113, 'L': 113, 'N': 114,\n",
    "    'D': 115, 'K': 128, 'Q': 128, 'E': 129, 'M': 131,\n",
    "    'H': 137, 'F': 147, 'R': 156, 'Y': 163, 'W': 186\n",
    "}\n",
    "\n",
    "def cyclic_spectrum(peptide):\n",
    "    # Calculate the total mass of the peptide\n",
    "    total_mass = sum(amino_acid_mass[aa] for aa in peptide)\n",
    "    \n",
    "    # Initialize the spectrum with 0 and the total mass\n",
    "    spectrum = [0, total_mass]\n",
    "    \n",
    "    # Generate all subpeptides\n",
    "    n = len(peptide)\n",
    "    extended_peptide = peptide + peptide[:-1]  # For cyclic peptides\n",
    "    \n",
    "    for length in range(1, n):\n",
    "        for i in range(n):\n",
    "            subpeptide = extended_peptide[i:i+length]\n",
    "            subpeptide_mass = sum(amino_acid_mass[aa] for aa in subpeptide)\n",
    "            spectrum.append(subpeptide_mass)\n",
    "    \n",
    "    # Sort the spectrum\n",
    "    return sorted(spectrum)\n",
    "\n",
    "if __name__ == \"__main__\":\n",
    "    with open(\"../data/rosalind_ba4c.txt\") as f:\n",
    "        peptide = f.readline().strip()\n",
    "    result = cyclic_spectrum(peptide)\n",
    "    for subpeptide in result:\n",
    "        print(subpeptide, end=\" \")"
   ]
  },
  {
   "cell_type": "code",
   "execution_count": null,
   "id": "5ebfe9f0-3666-4761-a5ac-57b0b4e081c4",
   "metadata": {},
   "outputs": [],
   "source": []
  }
 ],
 "metadata": {
  "kernelspec": {
   "display_name": "Python 3 (ipykernel)",
   "language": "python",
   "name": "python3"
  },
  "language_info": {
   "codemirror_mode": {
    "name": "ipython",
    "version": 3
   },
   "file_extension": ".py",
   "mimetype": "text/x-python",
   "name": "python",
   "nbconvert_exporter": "python",
   "pygments_lexer": "ipython3",
   "version": "3.11.7"
  }
 },
 "nbformat": 4,
 "nbformat_minor": 5
}
