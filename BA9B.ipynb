{
 "cells": [
  {
   "cell_type": "code",
   "execution_count": 1,
   "id": "b3f50f76-c128-4827-8201-5fc91f341d80",
   "metadata": {},
   "outputs": [
    {
     "name": "stdout",
     "output_type": "stream",
     "text": [
      "55 62 148 213 240 264 342 362 411 418 429 436 447 460 467 485 529 553 577 589 596 621 630 637 661 703 717 754 768 782 789 826\n"
     ]
    }
   ],
   "source": [
    "class TrieNode:\n",
    "    def __init__(self):\n",
    "        self.children = {}\n",
    "        self.is_end = False\n",
    "\n",
    "def build_trie(patterns):\n",
    "    root = TrieNode()\n",
    "    for pattern in patterns:\n",
    "        node = root\n",
    "        for char in pattern:\n",
    "            if char not in node.children:\n",
    "                node.children[char] = TrieNode()\n",
    "            node = node.children[char]\n",
    "        node.is_end = True\n",
    "    return root\n",
    "\n",
    "def prefix_trie_matching(text, trie):\n",
    "    node = trie\n",
    "    for i, char in enumerate(text):\n",
    "        if node.is_end:\n",
    "            return True\n",
    "        if char not in node.children:\n",
    "            return False\n",
    "        node = node.children[char]\n",
    "    return node.is_end\n",
    "\n",
    "def trie_matching(text, trie):\n",
    "    positions = []\n",
    "    for i in range(len(text)):\n",
    "        if prefix_trie_matching(text[i:], trie):\n",
    "            positions.append(i)\n",
    "    return positions\n",
    "\n",
    "def main():\n",
    "    with open(\"../data/rosalind_ba9b.txt\") as f:\n",
    "        text = f.readline().strip()\n",
    "        patterns = [line.strip() for line in f]\n",
    "    trie = build_trie(patterns)\n",
    "    result = trie_matching(text, trie)\n",
    "\n",
    "    print(' '.join(map(str, result)))\n",
    "\n",
    "if __name__ == \"__main__\":\n",
    "    main()"
   ]
  },
  {
   "cell_type": "code",
   "execution_count": null,
   "id": "999c3296-b152-49bc-a9d4-5bdfa6cfa2a8",
   "metadata": {},
   "outputs": [],
   "source": []
  }
 ],
 "metadata": {
  "kernelspec": {
   "display_name": "Python 3 (ipykernel)",
   "language": "python",
   "name": "python3"
  },
  "language_info": {
   "codemirror_mode": {
    "name": "ipython",
    "version": 3
   },
   "file_extension": ".py",
   "mimetype": "text/x-python",
   "name": "python",
   "nbconvert_exporter": "python",
   "pygments_lexer": "ipython3",
   "version": "3.11.7"
  }
 },
 "nbformat": 4,
 "nbformat_minor": 5
}
