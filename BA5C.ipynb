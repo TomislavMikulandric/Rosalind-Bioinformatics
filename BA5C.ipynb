{
 "cells": [
  {
   "cell_type": "code",
   "execution_count": 1,
   "id": "b97d2efb-c62c-47ce-b5b8-bcd3265a0b46",
   "metadata": {},
   "outputs": [
    {
     "name": "stdout",
     "output_type": "stream",
     "text": [
      "TCTTCGTAGAAGGCGTGGATTGGGTAGCTGTACCACCCGATACTTACTCTTTAATATCTAGAATAAGGTCAGCGCCTGCACTACTAGAATCCCTGTTTGGACCGTCCCATGCAGTCATCAGGATGTCTGGTTCGTAACCTTCGCCGTCAAAACGTAAAAACGAACCCCCTAACATAATTAACGTCACCGTGCGATTGTCGGCGGATCCGTGAAAGTCTGTGTGCGTGAGGGTCCGTCCATGTCAAGCCTGTAAGTGGGCATAACGTTGAAAGGGCTACGTTACGGCTAGTGTGTTGCTTGCGAGGATATCCGCAAAAGAGGCTCTCCCGTTAGGGAACATGTCATCCAAATAGTTTAGTTACCACCTGCACTTAGCGCTTTTCGGCTCGAACTAAAGCGAATGTATATGACTGAAAGGTATAAGATCTTCCCCGGGTAGTCCCGCATGAGTACTCTTTGGACACATAACAGTGATCTCCCAGAGAATAAACCCTGGCCGCGGACGCCATAAGCGCGGACCGGAACGGGCCCGCCCCTTACCCCCGGCGAAGCACCCCCCCACACTTCGCACCGGGTACCCCGTTAACG\n"
     ]
    }
   ],
   "source": [
    "def longest_common_subsequence(s1, s2):\n",
    "    n = len(s1)\n",
    "    m = len(s2)\n",
    "\n",
    "    L_table = [[0 for _ in range(m + 1)] for _ in range(n + 1)]\n",
    "\n",
    "    for i in range(1, n + 1):\n",
    "        for j in range(1, m + 1):\n",
    "            if s1[i-1] == s2[j-1]: # Characters match\n",
    "                L_table[i][j] = 1 + L_table[i-1][j-1]\n",
    "            else: # Characters do not match\n",
    "                L_table[i][j] = max(L_table[i-1][j], L_table[i][j-1])\n",
    "\n",
    "    lcs_string = []\n",
    "    i, j = n, m # Start from the bottom-right corner of L_table\n",
    "\n",
    "    while i > 0 and j > 0:\n",
    "        # If current characters in s1 and s2 are same, then the current character is part of LCS\n",
    "        if s1[i-1] == s2[j-1]:\n",
    "            lcs_string.append(s1[i-1])\n",
    "            i -= 1 # Move up and left\n",
    "            j -= 1\n",
    "        # If characters are not same, then find the larger of two subproblems and go in the direction of larger value\n",
    "        elif L_table[i-1][j] > L_table[i][j-1]:\n",
    "            i -= 1 # Move up\n",
    "        else:\n",
    "            j -= 1 # Move left\n",
    "\n",
    "    return \"\".join(reversed(lcs_string)) # String is added in reverse, need to flip it\n",
    "\n",
    "if __name__ == \"__main__\":\n",
    "    file_path = \"../data/rosalind_ba5c.txt\" \n",
    "    \n",
    "    string1 = \"\"\n",
    "    string2 = \"\"\n",
    "    with open(file_path, 'r') as f:\n",
    "        string1 = f.readline().strip()\n",
    "        string2 = f.readline().strip()\n",
    "\n",
    "    lcs_result = longest_common_subsequence(string1, string2)\n",
    "    \n",
    "    print(lcs_result)"
   ]
  },
  {
   "cell_type": "code",
   "execution_count": null,
   "id": "b2a4bd1e-2479-4bdc-82a7-17ce4d7ef13a",
   "metadata": {},
   "outputs": [],
   "source": []
  }
 ],
 "metadata": {
  "kernelspec": {
   "display_name": "Python 3 (ipykernel)",
   "language": "python",
   "name": "python3"
  },
  "language_info": {
   "codemirror_mode": {
    "name": "ipython",
    "version": 3
   },
   "file_extension": ".py",
   "mimetype": "text/x-python",
   "name": "python",
   "nbconvert_exporter": "python",
   "pygments_lexer": "ipython3",
   "version": "3.11.7"
  }
 },
 "nbformat": 4,
 "nbformat_minor": 5
}
