{
 "cells": [
  {
   "cell_type": "code",
   "execution_count": 4,
   "id": "7104bc27-137f-420e-8236-a007d8dd6ba1",
   "metadata": {},
   "outputs": [
    {
     "name": "stdout",
     "output_type": "stream",
     "text": [
      "749482325253070\n"
     ]
    }
   ],
   "source": [
    "def patternToNumber (pattern):\n",
    "    letter_value = {\"A\":0, \"C\":1, \"G\":2, \"T\":3}\n",
    "    total = 0\n",
    "    for i in range(len(pattern)):\n",
    "        total += letter_value[pattern[-(i+1)]] * len(letter_value)**(i)\n",
    "    return total\n",
    "\n",
    "\n",
    "if __name__ == \"__main__\":\n",
    "    with open(\"../data/rosalind_ba1l.txt\") as f:\n",
    "        pattern = f.readline().strip()\n",
    "    print(patternToNumber(pattern))"
   ]
  },
  {
   "cell_type": "code",
   "execution_count": null,
   "id": "51a7673a-af8e-4e79-abc0-e7a9d4621c90",
   "metadata": {},
   "outputs": [],
   "source": []
  }
 ],
 "metadata": {
  "kernelspec": {
   "display_name": "Python 3 (ipykernel)",
   "language": "python",
   "name": "python3"
  },
  "language_info": {
   "codemirror_mode": {
    "name": "ipython",
    "version": 3
   },
   "file_extension": ".py",
   "mimetype": "text/x-python",
   "name": "python",
   "nbconvert_exporter": "python",
   "pygments_lexer": "ipython3",
   "version": "3.11.7"
  }
 },
 "nbformat": 4,
 "nbformat_minor": 5
}
