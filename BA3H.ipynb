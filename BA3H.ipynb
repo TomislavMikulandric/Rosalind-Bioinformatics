{
 "cells": [
  {
   "cell_type": "code",
   "execution_count": null,
   "id": "e3ff17c2-8a55-4e92-8823-2966e3e36139",
   "metadata": {},
   "outputs": [],
   "source": [
    "from collections import defaultdict\n",
    "\n",
    "def construct_de_bruijn_graph(kmers):\n",
    "    graph = defaultdict(list)\n",
    "    for kmer in kmers:\n",
    "        prefix = kmer[:-1]\n",
    "        suffix = kmer[1:]\n",
    "        graph[prefix].append(suffix)\n",
    "    return graph\n",
    "\n",
    "def eulerian_path(graph):\n",
    "    # Find a start node (a node with unbalanced in-degree)\n",
    "    in_degree = defaultdict(int)\n",
    "    for node in graph:\n",
    "        for neighbor in graph[node]:\n",
    "            in_degree[neighbor] += 1\n",
    "    \n",
    "    start = next(node for node in graph if len(graph[node]) > in_degree[node])\n",
    "    \n",
    "    path = []\n",
    "    stack = [start]\n",
    "    while stack:\n",
    "        node = stack[-1]\n",
    "        if graph[node]:\n",
    "            next_node = graph[node].pop()\n",
    "            stack.append(next_node)\n",
    "        else:\n",
    "            path.append(stack.pop())\n",
    "    \n",
    "    return path[::-1]\n",
    "\n",
    "def reconstruct_string(k, kmers):\n",
    "    graph = construct_de_bruijn_graph(kmers)\n",
    "    path = eulerian_path(graph)\n",
    "    \n",
    "    # Reconstruct the string from the path\n",
    "    return path[0][:-1] + ''.join(node[-1] for node in path)\n",
    "\n",
    "def main():\n",
    "    with open(\"rosalind_ba3h.txt\", \"r\") as f:\n",
    "        k = int(f.readline().strip())\n",
    "        kmers = [line.strip() for line in f]\n",
    "    \n",
    "    result = reconstruct_string(k, kmers)\n",
    "    print(result)\n",
    "\n",
    "if __name__ == \"__main__\":\n",
    "    main()"
   ]
  }
 ],
 "metadata": {
  "kernelspec": {
   "display_name": "Python 3 (ipykernel)",
   "language": "python",
   "name": "python3"
  },
  "language_info": {
   "codemirror_mode": {
    "name": "ipython",
    "version": 3
   },
   "file_extension": ".py",
   "mimetype": "text/x-python",
   "name": "python",
   "nbconvert_exporter": "python",
   "pygments_lexer": "ipython3",
   "version": "3.11.7"
  }
 },
 "nbformat": 4,
 "nbformat_minor": 5
}
