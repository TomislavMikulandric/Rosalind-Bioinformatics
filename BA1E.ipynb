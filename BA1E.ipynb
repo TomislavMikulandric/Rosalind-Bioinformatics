{
 "cells": [
  {
   "cell_type": "code",
   "execution_count": 1,
   "id": "71cf5772-f925-4a3e-8d82-45d83ca40dde",
   "metadata": {},
   "outputs": [
    {
     "name": "stdout",
     "output_type": "stream",
     "text": [
      "CTGCAACCCT TTTTCTCCCT CTATTGGGCG GTCCAAACTT TGGAAAGGTA GGATCCGCGG CAGACGTAGC TTCGTACCCG GCTCCCCTAA AACCGGCTAT\n"
     ]
    }
   ],
   "source": [
    "def FindClumps(genome, k, L, t):\n",
    "    result = set()\n",
    "    \n",
    "    # Sliding the \"big window\" - unutar genoma imamo window u kojem tražimo k-mere\n",
    "    for i in range(len(genome) - L + 1):\n",
    "        window = genome[i:i+L]\n",
    "        \n",
    "        # Sliding the \"small window\" - manji window dužine jednog k-mera -> increment brojac za 1 kada vidis taj k-mer\n",
    "        kmer_counts = {}\n",
    "        for j in range(L - k + 1): # L -> len of small window\n",
    "            kmer = window[j:j+k]\n",
    "            kmer_counts[kmer] = kmer_counts.get(kmer, 0) + 1 #default 0, increment by 1\n",
    "        \n",
    "        # Add k-mers that appear at least t times\n",
    "        for kmer, count in kmer_counts.items():\n",
    "            if count >= t:\n",
    "                result.add(kmer)\n",
    "    \n",
    "    print(' '.join(result))\n",
    "    return result\n",
    "\n",
    "if __name__ == \"__main__\":\n",
    "    with open(\"../data/rosalind_ba1e.txt\", \"r\") as f:\n",
    "        lines = f.readlines()\n",
    "        genome = lines[0].strip()\n",
    "        k, L, t = map(int, lines[1].strip().split())\n",
    "        \n",
    "        FindClumps(genome, k, L, t)\n"
   ]
  },
  {
   "cell_type": "code",
   "execution_count": null,
   "id": "d126f796-4274-4bfa-a3c3-359a61bd8718",
   "metadata": {},
   "outputs": [],
   "source": []
  }
 ],
 "metadata": {
  "kernelspec": {
   "display_name": "Python 3 (ipykernel)",
   "language": "python",
   "name": "python3"
  },
  "language_info": {
   "codemirror_mode": {
    "name": "ipython",
    "version": 3
   },
   "file_extension": ".py",
   "mimetype": "text/x-python",
   "name": "python",
   "nbconvert_exporter": "python",
   "pygments_lexer": "ipython3",
   "version": "3.11.7"
  }
 },
 "nbformat": 4,
 "nbformat_minor": 5
}
