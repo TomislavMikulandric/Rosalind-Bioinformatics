{
 "cells": [
  {
   "cell_type": "code",
   "execution_count": 4,
   "id": "86a44ec5-0c16-4068-baef-6126ae4c074a",
   "metadata": {},
   "outputs": [
    {
     "name": "stdout",
     "output_type": "stream",
     "text": [
      "825\n"
     ]
    }
   ],
   "source": [
    "def hamming_distance(s1,s2):\n",
    "    return sum(c1 != c2 for c1, c2 in zip(s1,s2))\n",
    "\n",
    "\n",
    "if __name__ == \"__main__\":\n",
    "    with open(\"../data/rosalind_ba1g.txt\") as f:\n",
    "        dna1 = f.readline().strip()\n",
    "        dna2 = f.readline().strip()\n",
    "    dist = hamming_distance(dna1, dna2)\n",
    "    print(dist)"
   ]
  },
  {
   "cell_type": "code",
   "execution_count": null,
   "id": "7548af4d-73d0-493e-abc6-114a64eb7662",
   "metadata": {},
   "outputs": [],
   "source": []
  }
 ],
 "metadata": {
  "kernelspec": {
   "display_name": "Python 3 (ipykernel)",
   "language": "python",
   "name": "python3"
  },
  "language_info": {
   "codemirror_mode": {
    "name": "ipython",
    "version": 3
   },
   "file_extension": ".py",
   "mimetype": "text/x-python",
   "name": "python",
   "nbconvert_exporter": "python",
   "pygments_lexer": "ipython3",
   "version": "3.11.7"
  }
 },
 "nbformat": 4,
 "nbformat_minor": 5
}
